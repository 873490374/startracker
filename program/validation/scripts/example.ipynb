{
 "cells": [
  {
   "cell_type": "code",
   "execution_count": 1,
   "metadata": {
    "collapsed": true
   },
   "outputs": [],
   "source": [
    "from program.validation.scripts.simulator import *"
   ]
  },
  {
   "cell_type": "code",
   "execution_count": 2,
   "metadata": {
    "collapsed": false
   },
   "outputs": [],
   "source": [
    "%matplotlib inline\n",
    "plt.rcParams['image.cmap'] = 'gray'\n",
    "sns.set_style('white')"
   ]
  },
  {
   "cell_type": "markdown",
   "metadata": {},
   "source": [
    "Settings\n",
    "--------"
   ]
  },
  {
   "cell_type": "code",
   "execution_count": 3,
   "metadata": {
    "collapsed": false
   },
   "outputs": [],
   "source": [
    "# resolution\n",
    "res_x = 1920 # pixels\n",
    "res_y = 1440 # pixels\n",
    "\n",
    "# normalized focal length\n",
    "f = 0.5 / np.tan(np.deg2rad(10) / 2)\n",
    "\n",
    "# pixel aspect ratio\n",
    "pixel_ar = 1\n",
    "\n",
    "# normalized principal point\n",
    "ppx = 0.5\n",
    "ppy = 0.5\n",
    "\n",
    "gaussian_noise_sigma = 20e-6 # rad\n",
    "\n",
    "cam = 0"
   ]
  },
  {
   "cell_type": "code",
   "execution_count": 4,
   "metadata": {
    "collapsed": true
   },
   "outputs": [],
   "source": [
    "# magnitude parameters\n",
    "\n",
    "A_pixel = 525 # photonelectrons/s mm\n",
    "sigma_pixel = 525 # photonelectrons/s mm\n",
    "\n",
    "sigma_psf = 0.5 # pixel\n",
    "t_exp = 0.2 # s\n",
    "aperture = 15 # mm\n",
    "\n",
    "base_photons = 19100 # photoelectrons per mm² and second of a magnitude 0 G2 star\n",
    "\n",
    "magnitude_gaussian = 0.01 # mag"
   ]
  },
  {
   "cell_type": "code",
   "execution_count": 5,
   "metadata": {
    "collapsed": true
   },
   "outputs": [],
   "source": [
    "# star count\n",
    "\n",
    "min_true = 3\n",
    "max_true = 100\n",
    "min_false = 0\n",
    "max_false = 10\n",
    "min_stars = min_true"
   ]
  },
  {
   "cell_type": "markdown",
   "metadata": {},
   "source": [
    "Base Objects\n",
    "--------"
   ]
  },
  {
   "cell_type": "code",
   "execution_count": 6,
   "metadata": {
    "collapsed": true
   },
   "outputs": [
    {
     "name": "stdout",
     "output_type": "stream",
     "text": [
      "       Catalog     HIP Proxy        RAhms        DEdms   Vmag  VarFlag r_Vmag  \\\n0            H       1   NaN  00 00 00.22  +01 05 20.4   9.10      NaN      H   \n1            H       2   NaN  00 00 00.91  -19 29 55.8   9.27      NaN      G   \n2            H       3   NaN  00 00 01.20  +38 51 33.4   6.61      NaN      G   \n3            H       4   NaN  00 00 02.01  -51 53 36.8   8.06      NaN      H   \n4            H       5   NaN  00 00 02.39  -40 35 28.4   8.55      NaN      H   \n5            H       6   NaN  00 00 04.35  +03 56 47.4  12.31      NaN      G   \n6            H       7   NaN  00 00 05.41  +20 02 11.8   9.64      NaN      G   \n7            H       8   NaN  00 00 06.55  +25 53 11.3   9.05      3.0      H   \n8            H       9   NaN  00 00 08.48  +36 35 09.4   8.59      NaN      H   \n9            H      10   NaN  00 00 08.70  -50 52 01.5   8.59      NaN      H   \n10           H      11   NaN  00 00 08.95  +46 56 24.0   7.34      NaN      H   \n11           H      12   NaN  00 00 09.82  -35 57 36.8   8.43      NaN      H   \n12           H      13   NaN  00 00 10.00  -22 35 40.9   8.80      NaN      H   \n13           H      14   NaN  00 00 11.59  -00 21 37.5   7.25      NaN      G   \n14           H      15   NaN  00 00 12.07  +50 47 28.2   8.60      NaN      H   \n15           H      17   NaN  00 00 12.26  -40 11 32.4   8.15      NaN      H   \n16           H      16   NaN  00 00 12.34  -54 54 50.9  11.71      NaN      G   \n17           H      18   NaN  00 00 12.75  -04 03 13.5  11.03      NaN      G   \n18           H      19   NaN  00 00 12.80  +38 18 14.7   6.53      NaN      H   \n19           H      20   NaN  00 00 15.11  +23 31 45.4   8.51      NaN      G   \n20           H      21   NaN  00 00 15.90  +08 00 26.0   7.55      NaN      H   \n21           H      22   NaN  00 00 16.83  -49 21 08.2   8.69      NaN      H   \n22           H      23   NaN  00 00 17.86  +13 18 44.0   7.57      NaN      G   \n23           H      24   NaN  00 00 18.25  -23 27 09.9   9.05      NaN      H   \n24           H      25     H  00 00 19.05  -44 17 25.1   6.28      NaN      G   \n25           H      26   NaN  00 00 20.24  -13 23 35.9   9.13      NaN      H   \n26           H      27   NaN  00 00 20.51  -41 17 51.1   9.32      NaN      H   \n27           H      28   NaN  00 00 20.94  -43 21 42.5   8.83      NaN      H   \n28           H      29   NaN  00 00 22.11  -49 06 28.6   9.14      NaN      H   \n29           H      30   NaN  00 00 23.07  +42 08 29.4   8.26      NaN      H   \n...        ...     ...   ...          ...          ...    ...      ...    ...   \n118188       H  118293   NaN  23 59 34.95  -01 51 00.0   7.49      NaN      G   \n118189       H  118294     H  23 59 35.10  -07 48 37.8   8.69      2.0      H   \n118190       H  118295   NaN  23 59 35.58  +29 03 27.0   8.43      NaN      H   \n118191       H  118296   NaN  23 59 38.52  -49 49 56.8   9.23      NaN      H   \n118192       H  118297   NaN  23 59 39.53  +37 47 58.7   7.88      NaN      H   \n118193       H  118298   NaN  23 59 40.62  -05 53 34.5   6.55      NaN      H   \n118194       H  118300   NaN  23 59 42.00  -51 37 15.1   9.52      NaN      H   \n118195       H  118299   NaN  23 59 42.09  -34 59 53.0   9.07      NaN      H   \n118196       H  118301   NaN  23 59 43.22  +21 17 21.1   7.67      NaN      H   \n118197       H  118302   NaN  23 59 43.78  -24 38 42.7   7.78      NaN      G   \n118198       H  118303   NaN  23 59 44.22  +62 59 30.1   7.94      2.0      H   \n118199       H  118304   NaN  23 59 44.66  -32 12 38.3   8.27      NaN      H   \n118200       H  118305   NaN  23 59 44.74  +08 41 21.0  11.94      NaN      G   \n118201       H  118306   NaN  23 59 46.08  -50 59 56.9   7.28      NaN      H   \n118202       H  118307   NaN  23 59 46.49  -00 16 48.2   6.83      2.0      H   \n118203       H  118308   NaN  23 59 47.73  +50 06 45.0   9.93      NaN      H   \n118204       H  118309   NaN  23 59 47.81  +11 16 24.3   6.74      NaN      H   \n118205       H  118310   NaN  23 59 47.82  +06 39 52.4   8.85      NaN      H   \n118206       H  118312   NaN  23 59 49.06  -02 06 45.2   8.35      NaN      H   \n118207       H  118311   NaN  23 59 49.12  -38 15 09.4  11.85      NaN      G   \n118208       H  118313   NaN  23 59 49.40  +21 08 59.1   8.94      NaN      H   \n118209       H  118314   NaN  23 59 49.64  -37 51 28.6   9.27      NaN      H   \n118210       H  118315   NaN  23 59 50.18  -18 30 26.2   8.47      NaN      H   \n118211       H  118316   NaN  23 59 50.62  +32 32 13.0   9.51      NaN      H   \n118212       H  118317   NaN  23 59 50.81  -36 25 10.1  10.01      NaN      H   \n118213       H  118318   NaN  23 59 51.30  +11 40 25.4   6.99      1.0      H   \n118214       H  118319   NaN  23 59 53.74  -22 25 41.4   8.23      NaN      G   \n118215       H  118320   NaN  23 59 54.25  +05 57 23.9   7.59      NaN      H   \n118216       H  118321   NaN  23 59 54.78  -64 22 21.3   9.20      NaN      G   \n118217       H  118322   NaN  23 59 54.91  -65 34 37.5   4.49      NaN      H   \n\n             RAdeg      DEdeg    ...    Survey  Chart  Notes        HD  \\\n0         0.000912   1.089013    ...         S    NaN    NaN  224700.0   \n1         0.003797 -19.498837    ...       NaN    NaN    NaN  224690.0   \n2         0.005008  38.859286    ...         S    NaN    NaN  224699.0   \n3         0.008382 -51.893546    ...         S    NaN    NaN  224707.0   \n4         0.009965 -40.591224    ...       NaN    NaN    NaN  224705.0   \n5         0.018141   3.946489    ...       NaN      G    NaN       NaN   \n6         0.022549  20.036602    ...       NaN    NaN    NaN       NaN   \n7         0.027292  25.886474    ...       NaN      G      P  224709.0   \n8         0.035342  36.585938    ...       NaN    NaN    NaN  224708.0   \n9         0.036253 -50.867074    ...         S    NaN    NaN  224717.0   \n10        0.037297  46.940002    ...         S    NaN    NaN  224720.0   \n11        0.040918 -35.960225    ...       NaN    NaN    NaN  224715.0   \n12        0.041680 -22.594681    ...       NaN    NaN    NaN  224728.0   \n13        0.048272  -0.360421    ...         S    NaN    NaN  224726.0   \n14        0.050309  50.791174    ...       NaN    NaN    NaN  236267.0   \n15        0.051100 -40.192328    ...         S    NaN    NaN  224732.0   \n16        0.051409 -54.914128    ...       NaN      G    NaN       NaN   \n17        0.053139  -4.053738    ...       NaN      G    NaN       NaN   \n18        0.053317  38.304086    ...         S    NaN    NaN  224721.0   \n19        0.062951  23.529284    ...         S    NaN    NaN  224723.0   \n20        0.066236   8.007234    ...         S    NaN    NaN  224724.0   \n21        0.070136 -49.352267    ...       NaN    NaN    NaN  224735.0   \n22        0.074429  13.312211    ...         S    NaN    NaN  224742.0   \n23        0.076050 -23.452749    ...       NaN    NaN    NaN  224746.0   \n24        0.079365 -44.290297    ...         S    NaN    NaN  224750.0   \n25        0.084346 -13.393297    ...         S    NaN    NaN  224744.0   \n26        0.085470 -41.297537    ...         S    NaN    NaN  224748.0   \n27        0.087249 -43.361800    ...         S    NaN    NaN  224749.0   \n28        0.092131 -49.107955    ...       NaN    NaN    NaN  224751.0   \n29        0.096136  42.141499    ...         S    NaN    NaN  224757.0   \n...            ...        ...    ...       ...    ...    ...       ...   \n118188  359.895639  -1.849992    ...         S    NaN    NaN  224638.0   \n118189  359.896245  -7.810509    ...         S    NaN    NaN  224651.0   \n118190  359.898237  29.057497    ...       NaN    NaN    NaN  224649.0   \n118191  359.910489 -49.832458    ...       NaN    NaN    NaN  224652.0   \n118192  359.914700  37.799627    ...         S    NaN    NaN  224656.0   \n118193  359.919268  -5.892913    ...         S    NaN    NaN  224661.0   \n118194  359.925010 -51.620858    ...       NaN    NaN    NaN  224653.0   \n118195  359.925394 -34.998042    ...       NaN    NaN    NaN  224664.0   \n118196  359.930069  21.289203    ...         S    NaN    NaN  224657.0   \n118197  359.932400 -24.645198    ...         S    NaN    NaN  224662.0   \n118198  359.934256  62.991691    ...       NaN    NaN    NaN  224669.0   \n118199  359.936090 -32.210642    ...         S    NaN    NaN  224663.0   \n118200  359.936426   8.689172    ...       NaN      G    NaN       NaN   \n118201  359.942017 -50.999149    ...         S    NaN    NaN  224666.0   \n118202  359.943728  -0.280053    ...         S    NaN      P  224677.0   \n118203  359.948880  50.112499    ...       NaN      G    NaN       NaN   \n118204  359.949220  11.273424    ...         S    NaN    NaN  224674.0   \n118205  359.949257   6.664565    ...       NaN    NaN    NaN  224660.0   \n118206  359.954434  -2.112552    ...         S    NaN    NaN  224679.0   \n118207  359.954685 -38.252603    ...       NaN      G    NaN       NaN   \n118208  359.955817  21.149740    ...       NaN    NaN    NaN  224671.0   \n118209  359.956824 -37.857956    ...       NaN    NaN    NaN       NaN   \n118210  359.959081 -18.507288    ...       NaN    NaN    NaN  224680.0   \n118211  359.960899  32.536933    ...       NaN    NaN    NaN       NaN   \n118212  359.961701 -36.419481    ...       NaN    NaN    NaN       NaN   \n118213  359.963744  11.673709    ...         S    NaN    NaN  224673.0   \n118214  359.973913 -22.428180    ...         S    NaN    NaN  224693.0   \n118215  359.976057   5.956638    ...         S    NaN    NaN  224689.0   \n118216  359.978239 -64.372572    ...       NaN    NaN    NaN  224685.0   \n118217  359.978792 -65.577078    ...         S    NaN    NaN  224686.0   \n\n                BD         CoD         CPD  (V-I)red        SpType  r_SpType  \n0       B+00 5077          NaN         NaN      0.66  F5                  S   \n1       B-20 6688          NaN         NaN      1.04  K3V                 4   \n2       B+38 5108          NaN         NaN      0.00  B9                  S   \n3              NaN         NaN  P-52 12237      0.43  F0V                 2   \n4              NaN  C-41 15372  P-41  9991      0.95  G8III               2   \n5              NaN         NaN         NaN      1.55  M0V:                S   \n6       B+19 5185          NaN         NaN      0.79  G0                  S   \n7       B+25 5054          NaN         NaN      4.82  M6e-M8.5e Tc        G   \n8       B+35 5149          NaN         NaN      1.00  G5                  S   \n9              NaN  C-51 13738  P-51 12065      0.51  F6V                 2   \n10      B+46 4231          NaN         NaN      0.07  A2                  S   \n11             NaN  C-36 16128  P-36  9818      1.41  K4III               3   \n12             NaN  C-23 18112  P-23  8368      1.04  K0III               4   \n13      B-01 4515          NaN         NaN      1.16  K0                  S   \n14      B+49 4303          NaN         NaN      1.23  K2                  S   \n15             NaN  C-40 15306  P-40  9904      0.49  F3V                 2   \n16             NaN         NaN  P-55 10131      0.49           NaN       NaN  \n17      B-04 6001          NaN         NaN      1.49  K5                  S   \n18      B+37 4912          NaN         NaN      0.94  G5                  S   \n19      B+22 4939          NaN         NaN      0.59  G0                  S   \n20      B+07 5113          NaN         NaN      1.36  K2                  S   \n21             NaN  C-50 14096  P-50 11892      0.98  G8/K0III/IV         2   \n22      B+12 5056          NaN         NaN      0.53  F2V                 X   \n23             NaN  C-24 17941  P-24  7502      0.49  G0V                 4   \n24             NaN  C-44 15420  P-44 10394      0.80  G3IV                X   \n25      B-14 6597          NaN         NaN      0.65  F7V                 4   \n26             NaN  C-41 15375  P-41  9992      0.70  G5V                 2   \n27             NaN  C-44 15421  P-44 10395      0.51  F3/F5V              2   \n28             NaN  C-49 14311  P-49 11836      0.94  G8III               2   \n29      B+41 4916          NaN         NaN      0.12  A0                  S   \n...            ...         ...         ...       ...           ...       ...  \n118188  B-02 6071          NaN         NaN      0.40  F0                  S   \n118189  B-08 6222          NaN         NaN      0.67  G0                  S   \n118190  B+28 4683          NaN         NaN      1.16  K2                  S   \n118191         NaN  C-50 14095  P-50 11891      0.71  G1V                 2   \n118192  B+36 5141          NaN         NaN     -0.01  B9                  S   \n118193  B-06 6335          NaN         NaN      1.00  G5                  S   \n118194         NaN         NaN  P-52 12236      0.17  A4:IV/Vn...         2   \n118195         NaN  C-35 16020  P-35  9466      1.08  K1III               3   \n118196  B+20 5412          NaN         NaN      0.39  F2V                 X   \n118197         NaN  C-25 16732  P-25  7603      1.17  K0III               4   \n118198  B+62 2343          NaN         NaN      1.63  K2                  S   \n118199         NaN  C-32 17763  P-32  6703      0.89  G8IV                3   \n118200         NaN         NaN         NaN      1.34  K7                  S   \n118201         NaN  C-51 13735  P-51 12063      0.99  K0III               2   \n118202  B-01 4514          NaN         NaN      2.03  M2III:              S   \n118203  B+49 4301          NaN         NaN      0.90  K:                  S   \n118204  B+10 5017          NaN         NaN      0.14  A2                  S   \n118205  B+05 5244          NaN         NaN      0.76  K5                  S   \n118206  B-02 6072          NaN         NaN      0.74  G5                  S   \n118207         NaN  C-38 15703         NaN      1.65           NaN       NaN  \n118208  B+20 5413          NaN         NaN      0.49  F0                  S   \n118209         NaN  C-38 15704  P-38  8593      1.03  K0                  S   \n118210  B-19 6553          NaN         NaN      0.99  K0III               4   \n118211  B+31 5014          NaN         NaN      0.45  F2                  S   \n118212         NaN  C-37 15450  P-37  9430      0.65  F8                  S   \n118213  B+10 5018          NaN         NaN      1.56  K2                  S   \n118214         NaN  C-23 18108  P-23  8366      0.70  G2V                 4   \n118215  B+05 5245          NaN         NaN      0.98  K0                  S   \n118216         NaN  C-65  2958  P-65  4188      0.75  G5V                 1   \n118217         NaN         NaN  P-66  3819     -0.04  B9IV                X   \n\n[117955 rows x 78 columns]\n**************************************************\n       Catalog     HIP Proxy        RAhms        DEdms  Vmag  VarFlag r_Vmag  \\\n676          H     677   NaN  00 08 23.17  +29 05 27.0  2.07      1.0      H   \n744          H     746   NaN  00 09 10.09  +59 09 00.8  2.28      1.0      H   \n1065         H    1067   NaN  00 13 14.15  +15 11 01.0  2.83      1.0      G   \n2018         H    2021   NaN  00 25 39.20  -77 15 18.1  2.82      NaN      G   \n2078         H    2081   NaN  00 26 16.87  -42 18 18.4  2.40      NaN      G   \n3176         H    3179   NaN  00 40 30.39  +56 32 14.7  2.24      1.0      H   \n3417         H    3419   NaN  00 43 35.23  -17 59 12.1  2.04      1.0      G   \n4423         H    4427   NaN  00 56 42.50  +60 43 00.3  2.15      1.0      H   \n5442         H    5447   NaN  01 09 43.80  +35 37 15.0  2.07      1.0      H   \n6680         H    6686   NaN  01 25 48.60  +60 14 07.5  2.66      NaN      H   \n7582         H    7588   NaN  01 37 42.75  -57 14 12.0  0.45      2.0      G   \n8896         H    8903   NaN  01 54 38.35  +20 48 29.9  2.64      NaN      G   \n9229         H    9236   NaN  01 58 45.87  -61 34 11.7  2.86      NaN      G   \n9631         H    9640     H  02 03 53.92  +42 19 47.5  2.10      NaN      H   \n9875         H    9884   NaN  02 07 10.29  +23 27 46.0  2.01      NaN      G   \n10055        H   10064   NaN  02 09 32.52  +34 59 14.6  3.00      NaN      G   \n11752        H   11767   NaN  02 31 47.08  +89 15 50.9  1.97      1.0      H   \n13834        H   13847     H  02 58 15.72  -40 18 17.0  2.88      NaN      H   \n14121        H   14135   NaN  03 02 16.78  +04 05 23.7  2.54      1.0      H   \n14315        H   14328   NaN  03 04 47.79  +53 30 23.2  2.91      NaN      H   \n14563        H   14576   NaN  03 08 10.13  +40 57 20.3  2.09      3.0      H   \n15848        H   15863   NaN  03 24 19.35  +49 51 40.5  1.79      1.0      G   \n17688        H   17702   NaN  03 47 29.06  +24 06 18.9  2.85      NaN      H   \n18229        H   18246   NaN  03 54 07.92  +31 53 01.2  2.84      1.0      H   \n18515        H   18532     T  03 57 51.22  +40 00 37.0  2.90      1.0      H   \n18527        H   18543   NaN  03 58 01.73  -13 30 29.7  2.97      1.0      H   \n21402        H   21421   NaN  04 35 55.20  +16 30 35.1  0.87      1.0      G   \n22997        H   23015   NaN  04 56 59.62  +33 09 58.1  2.69      NaN      G   \n23857        H   23875   NaN  05 07 51.03  -05 05 10.5  2.78      NaN      G   \n24418        H   24436   NaN  05 14 32.27  -08 12 05.9  0.18      1.0      G   \n...        ...     ...   ...          ...          ...   ...      ...    ...   \n87755        H   87833   NaN  17 56 36.38  +51 29 20.2  2.24      1.0      H   \n88556        H   88635   NaN  18 05 48.52  -30 25 25.1  2.98      NaN      G   \n89851        H   89931   NaN  18 20 59.62  -29 49 40.9  2.72      NaN      H   \n90104        H   90185   NaN  18 24 10.35  -34 23 03.5  1.79      NaN      H   \n90415        H   90496   NaN  18 27 58.27  -25 25 16.5  2.82      NaN      G   \n91179        H   91262   NaN  18 36 56.19  +38 46 58.8  0.03      1.0      G   \n92769        H   92855   NaN  18 55 15.92  -26 17 47.7  2.05      1.0      H   \n93420        H   93506     H  19 02 36.72  -29 52 48.4  2.60      NaN      G   \n93661        H   93747   NaN  19 05 24.61  +13 51 49.4  2.99      NaN      G   \n94055        H   94141   NaN  19 09 45.83  -21 01 24.7  2.88      NaN      H   \n97076        H   97165     H  19 44 58.44  +45 07 50.5  2.86      NaN      G   \n97190        H   97278   NaN  19 46 15.57  +10 36 47.8  2.72      1.0      G   \n97559        H   97649   NaN  19 50 46.68  +08 52 02.6  0.76      1.0      G   \n100364       H  100453   NaN  20 22 13.70  +40 15 24.1  2.23      1.0      H   \n100661       H  100751   NaN  20 25 38.85  -56 44 05.6  1.94      1.0      G   \n102003       H  102098   NaN  20 41 25.91  +45 16 49.2  1.25      2.0      G   \n102393       H  102488   NaN  20 46 12.43  +33 58 10.0  2.48      1.0      H   \n105104       H  105199   NaN  21 18 34.58  +62 35 07.6  2.45      NaN      G   \n106183       H  106278   NaN  21 31 33.52  -05 34 16.2  2.90      1.0      G   \n107219       H  107315   NaN  21 44 11.14  +09 52 30.0  2.38      1.0      G   \n107460       H  107556   NaN  21 47 02.29  -16 07 35.6  2.85      2.0      G   \n107989       H  108085   NaN  21 53 55.65  -37 21 53.4  3.00      NaN      G   \n108978       H  109074   NaN  22 05 47.03  -00 19 11.4  2.95      NaN      H   \n109172       H  109268   NaN  22 08 13.88  -46 57 38.2  1.73      1.0      G   \n110034       H  110130   NaN  22 18 30.18  -60 15 34.2  2.87      1.0      H   \n112023       H  112122   NaN  22 42 39.93  -46 53 04.4  2.07      2.0      H   \n112059       H  112158   NaN  22 43 00.13  +30 13 16.7  2.93      NaN      H   \n113267       H  113368   NaN  22 57 38.83  -29 37 18.6  1.17      NaN      G   \n113780       H  113881   NaN  23 03 46.33  +28 04 56.8  2.44      2.0      H   \n113862       H  113963   NaN  23 04 45.62  +15 12 19.3  2.49      NaN      G   \n\n             RAdeg      DEdeg    ...    Survey  Chart  Notes        HD  \\\n676       2.096533  29.090828    ...         S    NaN      P     358.0   \n744       2.292040  59.150218    ...         S    NaN      P     432.0   \n1065      3.308958  15.183616    ...         S    NaN    NaN     886.0   \n2018      6.413342 -77.255035    ...         S    NaN    NaN    2151.0   \n2078      6.570281 -42.305122    ...         S    NaN    NaN    2261.0   \n3176     10.126613  56.537409    ...         S    NaN    NaN    3712.0   \n3417     10.896785 -17.986684    ...         S    NaN    NaN    4128.0   \n4423     14.177088  60.716750    ...         S    NaN      P    5394.0   \n5442     17.432490  35.620830    ...         S    NaN    NaN    6860.0   \n6680     21.452513  60.235403    ...         S    NaN      P    8538.0   \n7582     24.428132 -57.236660    ...         S    NaN      P   10144.0   \n8896     28.659788  20.808299    ...         S    NaN      P   11636.0   \n9229     29.691133 -61.569924    ...         S    NaN    NaN   12311.0   \n9631     30.974663  42.329848    ...         S    NaN      W   12533.0   \n9875     31.792858  23.462777    ...         S    NaN    NaN   12929.0   \n10055    32.385504  34.987392    ...         S    NaN    NaN   13161.0   \n11752    37.946147  89.264138    ...         S    NaN      P    8890.0   \n13834    44.565482 -40.304735    ...         S    NaN    NaN   18622.0   \n14121    45.569913   4.089925    ...         S    NaN      P   18884.0   \n14315    46.199126  53.506450    ...         S    NaN    NaN   18925.0   \n14563    47.042207  40.955651    ...         S    NaN      W   19356.0   \n15848    51.080619  49.861243    ...         S    NaN      P   20902.0   \n17688    56.871101  24.105242    ...         S    NaN    NaN   23630.0   \n18229    58.532994  31.883658    ...         S    NaN    NaN   24398.0   \n18515    59.463421  40.010273    ...         S    NaN    NaN   24760.0   \n18527    59.507209 -13.508245    ...         S    NaN    NaN   25025.0   \n21402    68.980002  16.509762    ...         S    NaN    NaN   29139.0   \n22997    74.248401  33.166135    ...         S    NaN    NaN   31398.0   \n23857    76.962641  -5.086263    ...         S    NaN    NaN   33111.0   \n24418    78.634464  -8.201639    ...         S    NaN    NaN   34085.0   \n...            ...        ...    ...       ...    ...    ...       ...   \n87755   269.151574  51.488951    ...         S    NaN    NaN  164058.0   \n88556   271.452186 -30.423650    ...         S    NaN    NaN  165135.0   \n89851   275.248423 -29.828039    ...         S    NaN    NaN  168454.0   \n90104   276.043110 -34.384315    ...         S    NaN    NaN  169022.0   \n90415   276.992790 -25.421247    ...         S    NaN    NaN  169916.0   \n91179   279.234108  38.782993    ...         S    NaN    NaN  172167.0   \n92769   283.816320 -26.296594    ...         S    NaN    NaN  175191.0   \n93420   285.653014 -29.880114    ...         S    NaN      W  176687.0   \n93661   286.352552  13.863710    ...         S    NaN    NaN  177724.0   \n94055   287.440974 -21.023525    ...         S    NaN    NaN  178524.0   \n97076   296.243509  45.130692    ...         S    NaN    NaN  186882.0   \n97190   296.564876  10.613269    ...         S    NaN    NaN  186791.0   \n97559   297.694509   8.867385    ...         S    NaN      P  187642.0   \n100364  305.557083  40.256681    ...         S    NaN    NaN  194093.0   \n100661  306.411873 -56.734881    ...         S    NaN    NaN  193924.0   \n102003  310.357973  45.280334    ...         S    NaN      P  197345.0   \n102393  311.551801  33.969453    ...         S    NaN    NaN  197989.0   \n105104  319.644090  62.585455    ...         S    NaN    NaN  203280.0   \n106183  322.889670  -5.571156    ...         S    NaN    NaN  204867.0   \n107219  326.046418   9.875008    ...         S    NaN      P  206778.0   \n107460  326.759522 -16.126566    ...         S    NaN    NaN  207098.0   \n107989  328.481892 -37.364823    ...         S    NaN    NaN  207971.0   \n108978  331.445939  -0.319827    ...         S    NaN    NaN  209750.0   \n109172  332.057818 -46.960616    ...         S    NaN    NaN  209952.0   \n110034  334.625743 -60.259495    ...         S    NaN    NaN  211416.0   \n112023  340.666395 -46.884566    ...         S    NaN    NaN  214952.0   \n112059  340.750536  30.221309    ...         S    NaN    NaN  215182.0   \n113267  344.411773 -29.621837    ...         S    NaN    NaN  216956.0   \n113780  345.943056  28.082455    ...         S    NaN    NaN  217906.0   \n113862  346.190070  15.205368    ...         S    NaN    NaN  218045.0   \n\n                BD         CoD         CPD  (V-I)red        SpType  r_SpType  \n676     B+28    4          NaN         NaN     -0.10  B9p                 X   \n744     B+58    3          NaN         NaN      0.40  F2III-IV            X   \n1065    B+14   14          NaN         NaN     -0.22  B2IV                X   \n2018           NaN  C-77    15  P-77    16      0.68  G2IV                X   \n2078           NaN  C-42   116  P-42    34      1.11  K0III...            X   \n3176    B+55  139          NaN         NaN      1.13  K0II-IIIvar         X   \n3417    B-18  115          NaN         NaN      1.00  K0III               4   \n4423    B+59  144          NaN         NaN      0.01  B0IV:evar           X   \n5442    B+34  198          NaN         NaN      1.74  M0IIIvar            X   \n6680    B+59  248          NaN         NaN      0.19  A5Vv SB             G   \n7582           NaN         NaN  P-57   334     -0.17  B3Vp                X   \n8896    B+20  306          NaN         NaN      0.16  A5V...              X   \n9229           NaN         NaN  P-62   162      0.34  F0V                 X   \n9631    B+41  395          NaN         NaN      1.37  B8V                 X   \n9875    B+22  306          NaN         NaN      1.13  K2III               X   \n10055   B+34  381          NaN         NaN      0.17  A5III               X   \n11752   B+88    8          NaN         NaN      0.68  F7:Ib-IIv SB        G   \n13834          NaN  C-40   771  P-40   253      0.17  A4III+...           S   \n14121   B+03  419          NaN         NaN      1.97  M2III               X   \n14315   B+52  654          NaN         NaN      0.76  G8III+...           X   \n14563   B+40  673          NaN         NaN      0.04  B8V                 X   \n15848   B+49  917          NaN         NaN      0.63  F5Ib                X   \n17688   B+23  541          NaN         NaN     -0.01  B7III               X   \n18229   B+31  666          NaN         NaN      0.18  B1Ib                X   \n18515   B+39  895          NaN         NaN     -0.19  B0.5V               X   \n18527   B-13  781          NaN         NaN      1.78  M1IIIb Ca-1         G   \n21402   B+16  629          NaN         NaN      1.67  K5III               X   \n22997   B+32  855          NaN         NaN      1.46  K3IIvar             X   \n23857   B-05 1162          NaN         NaN      0.16  A3IIIvar            X   \n24418   B-08 1063          NaN         NaN      0.03  B8Ia                X   \n...            ...         ...         ...       ...           ...       ...  \n87755   B+51 2282          NaN         NaN      1.54  K5III               X   \n88556          NaN  C-30 15215  P-30  5241      0.99  K0III               3   \n89851          NaN  C-29 14834  P-29  5513      1.35  K3III               3   \n90104          NaN  C-34 12784         NaN      0.01  B9.5III             3   \n90415          NaN  C-25 13149  P-25  6523      1.04  K1IIIb              4   \n91179   B+38 3238          NaN         NaN     -0.01  A0Vvar              X   \n92769          NaN  C-26 13595  P-26  6590     -0.21  B2.5V               3   \n93420          NaN  C-30 16575  P-30  5798      0.06  A3IV                3   \n93661   B+13 3899          NaN         NaN     -0.01  A0Vn                X   \n94055   B-21 5275          NaN         NaN      0.44  F2II/III            4   \n97076   B+44 3234          NaN         NaN     -0.02  B9.5III             X   \n97190   B+10 4043          NaN         NaN      1.44  K3II                X   \n97559   B+08 4236          NaN         NaN      0.27  A7IV-V              X   \n100364  B+39 4159          NaN         NaN      0.65  F8Ib                X   \n100661         NaN         NaN  P-57  9674     -0.20  B2IV                X   \n102003  B+44 3541          NaN         NaN      0.16  A2Ia                X   \n102393  B+33 4018          NaN         NaN      1.00  K0III               X   \n105104  B+61 2111          NaN         NaN      0.26  A7IV-V              X   \n106183  B-06 5770          NaN         NaN      0.82  G0Ib                X   \n107219  B+09 4891          NaN         NaN      1.42  K2Ibvar             X   \n107460  B-16 5943          NaN         NaN      0.35  A5mF2 (IV)          G   \n107989         NaN  C-37 14536  P-37  9119     -0.10  B8III               3   \n108978  B-01 4246          NaN         NaN      0.92  G2Ib                X   \n109172         NaN  C-47 14063  P-47  9830     -0.12  B7IV                X   \n110034         NaN         NaN  P-60  7561      1.37  K3III               X   \n112023         NaN  C-47 14308  P-47  9896      2.60  M5III               X   \n112059  B+29 4741          NaN         NaN      0.87  G2II-III..          X   \n113267         NaN  C-30 19370  P-30  6685      0.08  A3V                 3   \n113780  B+27 4480          NaN         NaN      2.06  M2II-IIIvar         X   \n113862  B+14 4926          NaN         NaN      0.00  B9.5III             X   \n\n[177 rows x 78 columns]\nNumber of stars in catalog: 177\n"
     ]
    }
   ],
   "source": [
    "import os\n",
    " \n",
    "catalog = StarCatalog('{}/program/validation/data/hip_main.dat'.format(\n",
    "    os.getcwd()))"
   ]
  },
  {
   "cell_type": "code",
   "execution_count": 7,
   "metadata": {
    "collapsed": false
   },
   "outputs": [],
   "source": [
    "cameras = [\n",
    "    RectilinearCamera,\n",
    "    EquidistantCamera,\n",
    "    EquisolidAngleCamera,\n",
    "    StereographicCamera,\n",
    "    OrthographicCamera,\n",
    "]\n",
    "\n",
    "camera = cameras[cam](f, (res_x, res_y), pixel_ar, (ppx, ppy))"
   ]
  },
  {
   "cell_type": "code",
   "execution_count": 8,
   "metadata": {
    "collapsed": false
   },
   "outputs": [],
   "source": [
    "detector = StarDetector(\n",
    "    A_pixel, sigma_pixel, sigma_psf, t_exp, aperture, base_photons)"
   ]
  },
  {
   "cell_type": "markdown",
   "metadata": {},
   "source": [
    "Scene Creation\n",
    "------------"
   ]
  },
  {
   "cell_type": "code",
   "execution_count": 9,
   "metadata": {
    "collapsed": true
   },
   "outputs": [],
   "source": [
    "num_scenes = 1"
   ]
  },
  {
   "cell_type": "code",
   "execution_count": 10,
   "metadata": {
    "collapsed": false
   },
   "outputs": [
    {
     "name": "stdout",
     "output_type": "stream",
     "text": [
      "[3 0 1 2]\n4\n[2 9 5 0 7 3 8 6 1 4]\n10\n[3 0 1 4 2]\n5\n[]\n0\n"
     ]
    },
    {
     "ename": "IndexError",
     "evalue": "arrays used as indices must be of integer (or boolean) type",
     "traceback": [
      "\u001b[0;31m---------------------------------------------------------------------------\u001b[0m",
      "\u001b[0;31mIndexError\u001b[0m                                Traceback (most recent call last)",
      "\u001b[0;32m<ipython-input-10-920ada3a8bc4>\u001b[0m in \u001b[0;36m<module>\u001b[0;34m()\u001b[0m\n\u001b[1;32m      7\u001b[0m         \u001b[0mmin_false\u001b[0m\u001b[0;34m,\u001b[0m \u001b[0mmax_false\u001b[0m\u001b[0;34m,\u001b[0m \u001b[0mmin_stars\u001b[0m\u001b[0;34m,\u001b[0m \u001b[0mmax_tries\u001b[0m\u001b[0;34m=\u001b[0m\u001b[0;36m1000\u001b[0m\u001b[0;34m,\u001b[0m\u001b[0;34m\u001b[0m\u001b[0m\n\u001b[1;32m      8\u001b[0m         \u001b[0mgaussian_noise_sigma\u001b[0m\u001b[0;34m=\u001b[0m\u001b[0mgaussian_noise_sigma\u001b[0m\u001b[0;34m,\u001b[0m\u001b[0;34m\u001b[0m\u001b[0m\n\u001b[0;32m----> 9\u001b[0;31m         magnitude_gaussian=magnitude_gaussian)\n\u001b[0m\u001b[1;32m     10\u001b[0m \u001b[0;34m\u001b[0m\u001b[0m\n\u001b[1;32m     11\u001b[0m     \u001b[0minputs\u001b[0m\u001b[0;34m.\u001b[0m\u001b[0mappend\u001b[0m\u001b[0;34m(\u001b[0m\u001b[0mnp\u001b[0m\u001b[0;34m.\u001b[0m\u001b[0mhstack\u001b[0m\u001b[0;34m(\u001b[0m\u001b[0;34m(\u001b[0m\u001b[0mscene\u001b[0m\u001b[0;34m.\u001b[0m\u001b[0mpos\u001b[0m\u001b[0;34m[\u001b[0m\u001b[0;34m:\u001b[0m\u001b[0;34m:\u001b[0m\u001b[0;34m,\u001b[0m \u001b[0;34m:\u001b[0m\u001b[0;34m:\u001b[0m\u001b[0;34m-\u001b[0m\u001b[0;36m1\u001b[0m\u001b[0;34m]\u001b[0m\u001b[0;34m,\u001b[0m \u001b[0mscene\u001b[0m\u001b[0;34m.\u001b[0m\u001b[0mmagnitudes\u001b[0m\u001b[0;34m.\u001b[0m\u001b[0mreshape\u001b[0m\u001b[0;34m(\u001b[0m\u001b[0;34m-\u001b[0m\u001b[0;36m1\u001b[0m\u001b[0;34m,\u001b[0m \u001b[0;36m1\u001b[0m\u001b[0;34m)\u001b[0m\u001b[0;34m)\u001b[0m\u001b[0;34m)\u001b[0m\u001b[0;34m.\u001b[0m\u001b[0mflatten\u001b[0m\u001b[0;34m(\u001b[0m\u001b[0;34m)\u001b[0m\u001b[0;34m)\u001b[0m\u001b[0;34m\u001b[0m\u001b[0m\n",
      "\u001b[0;32m~/PycharmProjects/startracker/program/validation/scripts/simulator.py\u001b[0m in \u001b[0;36mrandom\u001b[0;34m(catalog, camera, detector, min_true, max_true, min_false, max_false, min_stars, max_tries, gaussian_noise_sigma, quantization_noise, magnitude_gaussian)\u001b[0m\n\u001b[1;32m    692\u001b[0m             \u001b[0mscene\u001b[0m\u001b[0;34m.\u001b[0m\u001b[0madd_false_stars\u001b[0m\u001b[0;34m(\u001b[0m\u001b[0mnp\u001b[0m\u001b[0;34m.\u001b[0m\u001b[0mrandom\u001b[0m\u001b[0;34m.\u001b[0m\u001b[0mrandint\u001b[0m\u001b[0;34m(\u001b[0m\u001b[0mmin_false\u001b[0m\u001b[0;34m,\u001b[0m \u001b[0mmax_false\u001b[0m \u001b[0;34m+\u001b[0m \u001b[0;36m1\u001b[0m\u001b[0;34m)\u001b[0m\u001b[0;34m)\u001b[0m\u001b[0;34m\u001b[0m\u001b[0m\n\u001b[1;32m    693\u001b[0m \u001b[0;34m\u001b[0m\u001b[0m\n\u001b[0;32m--> 694\u001b[0;31m             \u001b[0mscene\u001b[0m\u001b[0;34m.\u001b[0m\u001b[0mscramble\u001b[0m\u001b[0;34m(\u001b[0m\u001b[0;34m)\u001b[0m\u001b[0;34m\u001b[0m\u001b[0m\n\u001b[0m\u001b[1;32m    695\u001b[0m \u001b[0;34m\u001b[0m\u001b[0m\n\u001b[1;32m    696\u001b[0m             \u001b[0mscene\u001b[0m\u001b[0;34m.\u001b[0m\u001b[0madd_magnitude_noise\u001b[0m\u001b[0;34m(\u001b[0m\u001b[0mmagnitude_gaussian\u001b[0m\u001b[0;34m)\u001b[0m\u001b[0;34m\u001b[0m\u001b[0m\n",
      "\u001b[0;32m~/PycharmProjects/startracker/program/validation/scripts/simulator.py\u001b[0m in \u001b[0;36mscramble\u001b[0;34m(self)\u001b[0m\n\u001b[1;32m    651\u001b[0m         \u001b[0mprint\u001b[0m\u001b[0;34m(\u001b[0m\u001b[0mscramble_index\u001b[0m\u001b[0;34m)\u001b[0m\u001b[0;34m\u001b[0m\u001b[0m\n\u001b[1;32m    652\u001b[0m         \u001b[0mprint\u001b[0m\u001b[0;34m(\u001b[0m\u001b[0mlen\u001b[0m\u001b[0;34m(\u001b[0m\u001b[0mself\u001b[0m\u001b[0;34m.\u001b[0m\u001b[0mpos\u001b[0m\u001b[0;34m)\u001b[0m\u001b[0;34m)\u001b[0m\u001b[0;34m\u001b[0m\u001b[0m\n\u001b[0;32m--> 653\u001b[0;31m         \u001b[0mself\u001b[0m\u001b[0;34m.\u001b[0m\u001b[0mpos\u001b[0m \u001b[0;34m=\u001b[0m \u001b[0mself\u001b[0m\u001b[0;34m.\u001b[0m\u001b[0mpos\u001b[0m\u001b[0;34m[\u001b[0m\u001b[0mscramble_index\u001b[0m\u001b[0;34m,\u001b[0m \u001b[0;34m...\u001b[0m\u001b[0;34m]\u001b[0m\u001b[0;34m\u001b[0m\u001b[0m\n\u001b[0m\u001b[1;32m    654\u001b[0m         \u001b[0mself\u001b[0m\u001b[0;34m.\u001b[0m\u001b[0mmagnitudes\u001b[0m \u001b[0;34m=\u001b[0m \u001b[0mself\u001b[0m\u001b[0;34m.\u001b[0m\u001b[0mmagnitudes\u001b[0m\u001b[0;34m[\u001b[0m\u001b[0mscramble_index\u001b[0m\u001b[0;34m]\u001b[0m\u001b[0;34m\u001b[0m\u001b[0m\n\u001b[1;32m    655\u001b[0m         \u001b[0mself\u001b[0m\u001b[0;34m.\u001b[0m\u001b[0mids\u001b[0m \u001b[0;34m=\u001b[0m \u001b[0mself\u001b[0m\u001b[0;34m.\u001b[0m\u001b[0mids\u001b[0m\u001b[0;34m[\u001b[0m\u001b[0mscramble_index\u001b[0m\u001b[0;34m]\u001b[0m\u001b[0;34m\u001b[0m\u001b[0m\n",
      "\u001b[0;31mIndexError\u001b[0m: arrays used as indices must be of integer (or boolean) type"
     ],
     "output_type": "error"
    }
   ],
   "source": [
    "inputs = []\n",
    "outputs = []\n",
    "\n",
    "for i in range(num_scenes):\n",
    "    scene = Scene.random(\n",
    "        catalog, camera, detector, min_true, max_true, \n",
    "        min_false, max_false, min_stars, max_tries=1000,\n",
    "        gaussian_noise_sigma=gaussian_noise_sigma, \n",
    "        magnitude_gaussian=magnitude_gaussian)\n",
    "    \n",
    "    inputs.append(np.hstack((scene.pos[::, ::-1], scene.magnitudes.reshape(-1, 1))).flatten())\n",
    "    outputs.append(scene.ids)"
   ]
  },
  {
   "cell_type": "code",
   "execution_count": 11,
   "metadata": {
    "collapsed": true
   },
   "outputs": [],
   "source": [
    "def write_csv(filename, lines):\n",
    "    with open(filename, 'w') as f:\n",
    "        for line in lines:\n",
    "            f.write(','.join(str(value) for value in line) + '\\n')"
   ]
  },
  {
   "cell_type": "code",
   "execution_count": 12,
   "metadata": {
    "collapsed": false
   },
   "outputs": [],
   "source": [
    "write_csv('input_sample.csv', inputs)\n",
    "write_csv('result_sample.csv', outputs)"
   ]
  },
  {
   "cell_type": "markdown",
   "metadata": {},
   "source": [
    "### Render the last scene"
   ]
  },
  {
   "cell_type": "code",
   "execution_count": 13,
   "metadata": {
    "collapsed": false
   },
   "outputs": [
    {
     "data": {
      "image/png": "[encoded data removed]",
      "text/plain": [
       "<Figure size 432x288 with 1 Axes>"
      ]
     },
     "metadata": {},
     "output_type": "display_data"
    }
   ],
   "source": [
    "_ = scene.render(False)\n",
    "\n",
    "\n"
   ]
  },
  {
   "cell_type": "code",
   "execution_count": null,
   "metadata": {},
   "outputs": [],
   "source": []
  }
 ],
 "metadata": {
  "kernelspec": {
   "display_name": "Python 3",
   "language": "python",
   "name": "python3"
  },
  "language_info": {
   "codemirror_mode": {
    "name": "ipython",
    "version": 3
   },
   "file_extension": ".py",
   "mimetype": "text/x-python",
   "name": "python",
   "nbconvert_exporter": "python",
   "pygments_lexer": "ipython3",
   "version": "3.5.1"
  }
 },
 "nbformat": 4,
 "nbformat_minor": 0
}
